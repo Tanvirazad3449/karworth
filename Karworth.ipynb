{
 "cells": [
  {
   "cell_type": "markdown",
   "id": "e8f21c19",
   "metadata": {},
   "source": [
    "# Importing Library Tools"
   ]
  },
  {
   "cell_type": "code",
   "execution_count": 232,
   "id": "aaa01e8a",
   "metadata": {},
   "outputs": [],
   "source": [
    "import matplotlib.pyplot as plt\n",
    "import numpy as np\n",
    "import pandas as pd\n",
    "from sklearn import preprocessing\n",
    "from sklearn.linear_model import LinearRegression\n",
    "from sklearn.linear_model import PoissonRegressor\n",
    "from sklearn.metrics import r2_score\n",
    "from sklearn.preprocessing import OneHotEncoder\n",
    "from sklearn.compose import make_column_transformer\n",
    "from sklearn.pipeline import make_pipeline\n",
    "from sklearn.model_selection import train_test_split\n",
    "from keras.models import Sequential\n",
    "from keras.layers import Dense\n",
    "import pickle"
   ]
  },
  {
   "cell_type": "markdown",
   "id": "c36fb2c1",
   "metadata": {},
   "source": [
    "# Data Preprocessing"
   ]
  },
  {
   "cell_type": "code",
   "execution_count": 233,
   "id": "f025885b",
   "metadata": {},
   "outputs": [],
   "source": [
    "df = pd.read_csv('UK_DATA_SET.csv')\n",
    "df = df[df.engineSize != 0]\n",
    "df = df[df.year != 1970]\n",
    "df = df[df.year != 2060]\n",
    "df = df[df.mpg < 100]\n",
    "df = df[df.mpg > 1]\n",
    "df.model = df.model.str.lstrip()"
   ]
  },
  {
   "cell_type": "code",
   "execution_count": 234,
   "id": "d9c154a2",
   "metadata": {},
   "outputs": [
    {
     "data": {
      "text/plain": [
       "2016"
      ]
     },
     "execution_count": 234,
     "metadata": {},
     "output_type": "execute_result"
    }
   ],
   "source": [
    "df.year[2]"
   ]
  },
  {
   "cell_type": "markdown",
   "id": "9bcd667d",
   "metadata": {},
   "source": [
    "# Label Encoding"
   ]
  },
  {
   "cell_type": "code",
   "execution_count": 235,
   "id": "057991df",
   "metadata": {},
   "outputs": [],
   "source": [
    "le_df = df\n",
    "label_encoder = preprocessing.LabelEncoder()\n",
    "# le_df['brand'] = label_encoder.fit_transform(le_df['brand'])\n",
    "# le_df['model'] = label_encoder.fit_transform(le_df['model'])\n",
    "# le_df['transmission'] = label_encoder.fit_transform(le_df['transmission'])\n",
    "# le_df['fuelType'] = label_encoder.fit_transform(le_df['fuelType'])"
   ]
  },
  {
   "cell_type": "markdown",
   "id": "9cbbe2f1",
   "metadata": {},
   "source": [
    "# One Hot Encoding"
   ]
  },
  {
   "cell_type": "code",
   "execution_count": 260,
   "id": "68fe16e4",
   "metadata": {},
   "outputs": [],
   "source": [
    "ohe = OneHotEncoder()\n",
    "cols = ['brand', 'model', 'transmission','fuelType' ]\n",
    "le_y = le_df.price\n",
    "le_x = le_df.drop('price',axis=1)\n",
    "ohe.fit(le_x[cols])\n",
    "column_trans = make_column_transformer((OneHotEncoder(categories=ohe.categories_), cols), remainder = 'passthrough')"
   ]
  },
  {
   "cell_type": "markdown",
   "id": "5684d68f",
   "metadata": {},
   "source": [
    "# Splitting Dataframe"
   ]
  },
  {
   "cell_type": "code",
   "execution_count": 237,
   "id": "9fe3b3d4",
   "metadata": {},
   "outputs": [],
   "source": [
    "le_x_train, le_x_valtest, le_y_train, le_y_valtest = train_test_split(le_x,le_y,test_size=0.2)\n",
    "le_x_val, le_x_test, le_y_val, le_y_test = train_test_split(le_x_valtest,le_y_valtest,test_size=0.5)\n",
    "\n",
    "# le_x_train & le_x_valtest \n",
    "# : \n",
    "# le_y_train & le_y_valtest \n",
    "# = 80 : 20 "
   ]
  },
  {
   "cell_type": "markdown",
   "id": "e29a9b27",
   "metadata": {},
   "source": [
    "# Data Visualization"
   ]
  },
  {
   "cell_type": "code",
   "execution_count": 238,
   "id": "bcab31d8",
   "metadata": {},
   "outputs": [],
   "source": [
    "# x=df['mileage']\n",
    "# y=df['price']\n",
    "# plt.xlabel('Mileage')\n",
    "# plt.ylabel('Price')\n",
    "# plt.title('Mileage & Price')\n",
    "# plt.scatter(x,y)\n",
    "# plt.show()\n",
    "\n",
    "# x=df['transmission']\n",
    "# y=df['price']\n",
    "# plt.xlabel('Transmission')\n",
    "# plt.ylabel('Price')\n",
    "# plt.title('Transmission & Price')\n",
    "# plt.scatter(x,y)\n",
    "# plt.show()\n",
    "\n",
    "# x=df['year']\n",
    "# y=df['price']\n",
    "# plt.xlabel('Year')\n",
    "# plt.ylabel('Price')\n",
    "# plt.title('Year & Price')\n",
    "# plt.scatter(x,y)\n",
    "# plt.show()\n",
    "\n",
    "# x=df['brand']\n",
    "# y=df['price']\n",
    "# plt.xlabel('Brand')\n",
    "# plt.ylabel('Price')\n",
    "# plt.title('Brand & Price')\n",
    "# plt.scatter(x,y)\n",
    "# plt.show()\n",
    "\n",
    "# x=df['fuelType']\n",
    "# y=df['price']\n",
    "# plt.xlabel('Fuel Type')\n",
    "# plt.ylabel('Price')\n",
    "# plt.title('Fuel Type & Price')\n",
    "# plt.scatter(x,y)\n",
    "# plt.show()\n",
    "\n",
    "# x=df['mpg']\n",
    "# y=df['price']\n",
    "# plt.xlabel('Miles per Gallon')\n",
    "# plt.ylabel('Price')\n",
    "# plt.title('Miles per Gallon & Price')\n",
    "# plt.scatter(x,y)\n",
    "# plt.show()\n",
    "\n",
    "# x=df['engineSize']\n",
    "# y=df['price']\n",
    "# plt.xlabel('Engine Size (L)')\n",
    "# plt.ylabel('Price')\n",
    "# plt.title('Engine Size & Price')\n",
    "# plt.scatter(x,y)\n",
    "# plt.show()"
   ]
  },
  {
   "cell_type": "markdown",
   "id": "19aa5a50",
   "metadata": {},
   "source": [
    "# Linear Regression"
   ]
  },
  {
   "cell_type": "code",
   "execution_count": 261,
   "id": "aee49836",
   "metadata": {},
   "outputs": [
    {
     "data": {
      "text/plain": [
       "Pipeline(steps=[('columntransformer',\n",
       "                 ColumnTransformer(remainder='passthrough',\n",
       "                                   transformers=[('onehotencoder',\n",
       "                                                  OneHotEncoder(categories=[array(['Audi', 'BMW', 'Ford', 'Hyundai', 'Mercedes', 'Skoda', 'Toyota',\n",
       "       'Vauxhall', 'Volkswagen'], dtype=object),\n",
       "                                                                            array(['1 Series', '180', '2 Series', '200', '220', '3 Series',\n",
       "       '4 Series', '5 Series', '6 Series', '7 Series', '8 Series',\n",
       "       'A Cla...\n",
       "       'Verso-S', 'Viva', 'Vivaro', 'X-CLASS', 'X1', 'X2', 'X3', 'X4',\n",
       "       'X5', 'X6', 'X7', 'Yaris', 'Yeti', 'Yeti Outdoor', 'Z3', 'Z4',\n",
       "       'Zafira', 'Zafira Tourer'], dtype=object),\n",
       "                                                                            array(['Automatic', 'Manual', 'Other', 'Semi-Auto'], dtype=object),\n",
       "                                                                            array(['Diesel', 'Electric', 'Hybrid', 'Other', 'Petrol'], dtype=object)]),\n",
       "                                                  ['brand', 'model',\n",
       "                                                   'transmission',\n",
       "                                                   'fuelType'])])),\n",
       "                ('linearregression', LinearRegression())])"
      ]
     },
     "execution_count": 261,
     "metadata": {},
     "output_type": "execute_result"
    }
   ],
   "source": [
    "lr = LinearRegression()\n",
    "lr_pipe = make_pipeline(column_trans, lr)\n",
    "lr_pipe.fit(le_x,le_y)\n",
    "# lr_result = lr_pipe.predict(le_x_valtest)\n",
    "\n",
    "# print(\"R2: \", r2_score(le_y_valtest,lr_result))\n",
    "# print(\"ACTUAL MIN: \", le_y_valtest.min())\n",
    "# print(\"ACTUAL MAX: \", le_y_valtest.max())\n",
    "# print(\"PRED MIN: \", lr_result.min())\n",
    "# print(\"PRED MAX: \", lr_result.max())\n",
    "# print(\"LR Predicted negative prices count: \", len(lr_result[lr_result < 0]))\n",
    "\n",
    "# xx = np.linspace(le_y_valtest.min(),lr_result.max(),lr_result.shape[0])\n",
    "# yy = xx\n",
    "# plt.scatter(le_y_valtest, lr_result)\n",
    "# plt.plot(xx, yy, '-r')\n",
    "# plt.axhline(y=0, color='g', linestyle='-')\n",
    "# plt.title('Linear Regression Result')\n",
    "# plt.xlabel('Actual Price (£)', color='#1C2833')\n",
    "# plt.ylabel('Predicted Price (£)', color='#1C2833')\n",
    "# plt.show()"
   ]
  },
  {
   "cell_type": "code",
   "execution_count": 262,
   "id": "ac7c1733",
   "metadata": {},
   "outputs": [
    {
     "data": {
      "text/plain": [
       "ColumnTransformer(remainder='passthrough',\n",
       "                  transformers=[('onehotencoder',\n",
       "                                 OneHotEncoder(categories=[array(['Audi', 'BMW', 'Ford', 'Hyundai', 'Mercedes', 'Skoda', 'Toyota',\n",
       "       'Vauxhall', 'Volkswagen'], dtype=object),\n",
       "                                                           array(['1 Series', '180', '2 Series', '200', '220', '3 Series',\n",
       "       '4 Series', '5 Series', '6 Series', '7 Series', '8 Series',\n",
       "       'A Class', 'A1', 'A2', 'A3', 'A4', 'A5', 'A6', 'A7...\n",
       "       'Up', 'Urban Cruiser', 'V Class', 'Vectra', 'Veloster', 'Verso',\n",
       "       'Verso-S', 'Viva', 'Vivaro', 'X-CLASS', 'X1', 'X2', 'X3', 'X4',\n",
       "       'X5', 'X6', 'X7', 'Yaris', 'Yeti', 'Yeti Outdoor', 'Z3', 'Z4',\n",
       "       'Zafira', 'Zafira Tourer'], dtype=object),\n",
       "                                                           array(['Automatic', 'Manual', 'Other', 'Semi-Auto'], dtype=object),\n",
       "                                                           array(['Diesel', 'Electric', 'Hybrid', 'Other', 'Petrol'], dtype=object)]),\n",
       "                                 ['brand', 'model', 'transmission',\n",
       "                                  'fuelType'])])"
      ]
     },
     "execution_count": 262,
     "metadata": {},
     "output_type": "execute_result"
    }
   ],
   "source": [
    "lr_pipe[0]"
   ]
  },
  {
   "cell_type": "code",
   "execution_count": 272,
   "id": "723ce75a",
   "metadata": {},
   "outputs": [
    {
     "data": {
      "text/plain": [
       "array([16058.46363554])"
      ]
     },
     "execution_count": 272,
     "metadata": {},
     "output_type": "execute_result"
    }
   ],
   "source": [
    "predTest = pd.DataFrame(data=np.array(['Audi', 'A6', 2014, 'Automatic', 36203, 'Diesel', 64.2, 2.0]).reshape(1,8),\n",
    "                        columns = ['brand','model','year','transmission','mileage','fuelType', 'mpg', 'engineSize' ])\n",
    "lr_pipe.predict(predTest)"
   ]
  },
  {
   "cell_type": "code",
   "execution_count": 246,
   "id": "471aca2e",
   "metadata": {},
   "outputs": [
    {
     "data": {
      "text/plain": [
       "array([['Audi', 'A6', 2016, 'Automatic', 36203, 'Diesel', 64.2, 2.0]],\n",
       "      dtype=object)"
      ]
     },
     "execution_count": 246,
     "metadata": {},
     "output_type": "execute_result"
    }
   ],
   "source": [
    "np.array(le_x[1:2])"
   ]
  },
  {
   "cell_type": "code",
   "execution_count": 264,
   "id": "90d8c20f",
   "metadata": {},
   "outputs": [
    {
     "data": {
      "text/plain": [
       "1    16500\n",
       "Name: price, dtype: int64"
      ]
     },
     "execution_count": 264,
     "metadata": {},
     "output_type": "execute_result"
    }
   ],
   "source": [
    "le_y[1:2]"
   ]
  },
  {
   "cell_type": "markdown",
   "id": "26e6d05a",
   "metadata": {},
   "source": [
    "# Poisson Regression"
   ]
  },
  {
   "cell_type": "code",
   "execution_count": 279,
   "id": "3e28f0dd",
   "metadata": {},
   "outputs": [
    {
     "name": "stderr",
     "output_type": "stream",
     "text": [
      "c:\\program files\\python39\\lib\\site-packages\\sklearn\\_loss\\glm_distribution.py:132: RuntimeWarning: divide by zero encountered in true_divide\n",
      "  return -2 * (y - y_pred) / self.unit_variance(y_pred)\n",
      "c:\\program files\\python39\\lib\\site-packages\\sklearn\\_loss\\glm_distribution.py:132: RuntimeWarning: overflow encountered in true_divide\n",
      "  return -2 * (y - y_pred) / self.unit_variance(y_pred)\n",
      "c:\\program files\\python39\\lib\\site-packages\\sklearn\\linear_model\\_glm\\glm.py:42: RuntimeWarning: invalid value encountered in multiply\n",
      "  temp = d1 * family.deviance_derivative(y, y_pred, weights)\n",
      "c:\\program files\\python39\\lib\\site-packages\\sklearn\\_loss\\glm_distribution.py:323: RuntimeWarning: divide by zero encountered in true_divide\n",
      "  dev = 2 * (xlogy(y, y / y_pred) - y + y_pred)\n",
      "c:\\program files\\python39\\lib\\site-packages\\sklearn\\_loss\\glm_distribution.py:323: RuntimeWarning: overflow encountered in true_divide\n",
      "  dev = 2 * (xlogy(y, y / y_pred) - y + y_pred)\n"
     ]
    },
    {
     "data": {
      "text/plain": [
       "Pipeline(steps=[('columntransformer',\n",
       "                 ColumnTransformer(remainder='passthrough',\n",
       "                                   transformers=[('onehotencoder',\n",
       "                                                  OneHotEncoder(categories=[array(['Audi', 'BMW', 'Ford', 'Hyundai', 'Mercedes', 'Skoda', 'Toyota',\n",
       "       'Vauxhall', 'Volkswagen'], dtype=object),\n",
       "                                                                            array(['1 Series', '180', '2 Series', '200', '220', '3 Series',\n",
       "       '4 Series', '5 Series', '6 Series', '7 Series', '8 Series',\n",
       "       'A Cla...\n",
       "       'Verso-S', 'Viva', 'Vivaro', 'X-CLASS', 'X1', 'X2', 'X3', 'X4',\n",
       "       'X5', 'X6', 'X7', 'Yaris', 'Yeti', 'Yeti Outdoor', 'Z3', 'Z4',\n",
       "       'Zafira', 'Zafira Tourer'], dtype=object),\n",
       "                                                                            array(['Automatic', 'Manual', 'Other', 'Semi-Auto'], dtype=object),\n",
       "                                                                            array(['Diesel', 'Electric', 'Hybrid', 'Other', 'Petrol'], dtype=object)]),\n",
       "                                                  ['brand', 'model',\n",
       "                                                   'transmission',\n",
       "                                                   'fuelType'])])),\n",
       "                ('poissonregressor', PoissonRegressor(max_iter=1000))])"
      ]
     },
     "execution_count": 279,
     "metadata": {},
     "output_type": "execute_result"
    }
   ],
   "source": [
    "pr = PoissonRegressor(max_iter=1000)\n",
    "pr_pipe = make_pipeline(column_trans, pr)\n",
    "pr_pipe.fit(le_x,le_y)\n",
    "# pr_result = pr_pipe.predict(le_x_valtest)\n",
    "\n",
    "# print(\"R2: \", r2_score(le_y_valtest,pr_result))\n",
    "# print(\"ACTUAL MIN: \", le_y_valtest.min())\n",
    "# print(\"ACTUAL MAX: \", le_y_valtest.max())\n",
    "# print(\"PRED MIN: \", pr_result.min())\n",
    "# print(\"PRED MAX: \", pr_result.max())\n",
    "# print(\"PR Predicted negative prices count: \", len(pr_result[pr_result < 0]))\n",
    "\n",
    "# plt.scatter(le_y_valtest, pr_result)\n",
    "# plt.plot(xx, yy, '-r')\n",
    "# plt.title('Poisson Regression Result')\n",
    "# plt.xlabel('Actual Price (£)', color='#1C2833')\n",
    "# plt.ylabel('Predicted Price (£)', color='#1C2833')\n",
    "# plt.show()"
   ]
  },
  {
   "cell_type": "code",
   "execution_count": 277,
   "id": "8f1377a5",
   "metadata": {},
   "outputs": [
    {
     "data": {
      "text/plain": [
       "array([16763.14818504])"
      ]
     },
     "execution_count": 277,
     "metadata": {},
     "output_type": "execute_result"
    }
   ],
   "source": [
    "predTest = pd.DataFrame(data=np.array(['Audi', 'A6', 2011, 'Automatic', 36203, 'Diesel', 164.2, 2.0]).reshape(1,8),\n",
    "                        columns = ['brand','model','year','transmission','mileage','fuelType', 'mpg', 'engineSize' ])\n",
    "pr_pipe.predict(predTest)"
   ]
  },
  {
   "cell_type": "code",
   "execution_count": 274,
   "id": "87c6ca6a",
   "metadata": {},
   "outputs": [],
   "source": [
    "filename = 'karworth_lr_model.pkl'\n",
    "pickle.dump(lr_pipe, open(filename, 'wb'))"
   ]
  },
  {
   "cell_type": "code",
   "execution_count": null,
   "id": "05f8cab8",
   "metadata": {},
   "outputs": [],
   "source": [
    "predTest = pd.DataFrame([['BMW', 'A1', 2019, 50000, 100, 1.0, 'Automatic','Petrol']],columns = ['brand','model','year', 'mileage', 'mpg', 'engineSize', 'transmission','fuelType'])\n",
    "ohe = OneHotEncoder()\n",
    "cols = ['brand','model','transmission','fuelType']\n",
    "ohe.fit(predTest[cols])\n",
    "column_trans = make_column_transformer((OneHotEncoder(categories=ohe.categories_), cols), remainder = 'passthrough')\n",
    "pr_pipe.predict(column_trans)"
   ]
  },
  {
   "cell_type": "code",
   "execution_count": null,
   "id": "24a203a7",
   "metadata": {},
   "outputs": [],
   "source": [
    "le_x_valtest"
   ]
  },
  {
   "cell_type": "markdown",
   "id": "e9621873",
   "metadata": {},
   "source": [
    "# ANN (Keras Sequential Model)"
   ]
  },
  {
   "cell_type": "code",
   "execution_count": null,
   "id": "c4049549",
   "metadata": {},
   "outputs": [],
   "source": [
    "# ann = Sequential([\n",
    "#     Dense(16, activation='relu', input_shape=(8,)),\n",
    "#     Dense(32, activation='relu'),\n",
    "#     Dense(1,),\n",
    "# ])\n",
    "# ann.compile(\n",
    "#     optimizer='adam',\n",
    "#     loss='mse',\n",
    "#     metrics=['mae']\n",
    "# )\n",
    "# ann_history = ann.fit(\n",
    "#     le_x_train, le_y_train,\n",
    "#     batch_size=16, epochs=100,\n",
    "#     validation_data=(le_x_val, le_y_val)\n",
    "# )\n",
    "# print(\"ACTUAL MIN: \", le_y_test.min())\n",
    "# print(\"ACTUAL MAX: \", le_y_test.max())\n",
    "# print(\"PRED MIN: \", ann_result.min())\n",
    "# print(\"PRED MAX: \", ann_result.max())\n",
    "# print(\"ANN Predicted negative prices count: \", len(ann_result[ann_result < 0]))\n",
    "\n",
    "# plt.scatter(le_y_test, ann_result)\n",
    "# plt.plot(xx, yy, '-r')\n",
    "# plt.title('ANN Result')\n",
    "# plt.xlabel('Actual Price (£)', color='#1C2833')\n",
    "# plt.ylabel('Predicted Price (£)', color='#1C2833')\n",
    "# plt.show()"
   ]
  },
  {
   "cell_type": "code",
   "execution_count": 270,
   "id": "395671bb",
   "metadata": {},
   "outputs": [
    {
     "name": "stdout",
     "output_type": "stream",
     "text": [
      "10,000\n"
     ]
    }
   ],
   "source": [
    "total_amount = 10000\n",
    "print(\"{:,}\".format(total_amount))\n"
   ]
  },
  {
   "cell_type": "code",
   "execution_count": null,
   "id": "82fd5d53",
   "metadata": {},
   "outputs": [],
   "source": []
  }
 ],
 "metadata": {
  "kernelspec": {
   "display_name": "Python 3 (ipykernel)",
   "language": "python",
   "name": "python3"
  },
  "language_info": {
   "codemirror_mode": {
    "name": "ipython",
    "version": 3
   },
   "file_extension": ".py",
   "mimetype": "text/x-python",
   "name": "python",
   "nbconvert_exporter": "python",
   "pygments_lexer": "ipython3",
   "version": "3.9.0"
  }
 },
 "nbformat": 4,
 "nbformat_minor": 5
}
